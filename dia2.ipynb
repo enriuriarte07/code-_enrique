{
 "cells": [
  {
   "cell_type": "markdown",
   "id": "6c50c5c9",
   "metadata": {},
   "source": [
    "### repaso\n"
   ]
  },
  {
   "cell_type": "code",
   "execution_count": null,
   "id": "ec3fcbec",
   "metadata": {},
   "outputs": [],
   "source": [
    "def buscsar_auto(marca,chapa,modelo,color)\n",
    "    print('verificar marca de auto: {marca}')"
   ]
  },
  {
   "cell_type": "markdown",
   "id": "b3fc0aef",
   "metadata": {},
   "source": [
    "### estoy condicionando\n",
    "\n",
    "##### Challenge🤺 - 20m\n",
    "\n",
    "Escribe un programa que `pregunte` al usuario por su edad y determine si tiene edad suficiente para comprar y consumir alcohol.\n",
    "- Si el usuario `tiene mas de 18 pero menos de 21 impirmir` \"Podes tomar pero no comprar\"\n",
    "- Si el usuario `tiene menos de 18` imprimir \"Juguito nomas\"\n",
    "- Si el usuario `tiene mas de 21` imprimir \"Hace lo que quieras\""
   ]
  },
  {
   "cell_type": "code",
   "execution_count": null,
   "id": "3056e924",
   "metadata": {},
   "outputs": [
    {
     "name": "stdout",
     "output_type": "stream",
     "text": [
      "hace lo que quieras\n"
     ]
    }
   ],
   "source": [
    "edad = int (input('ingrese su edad'))\n",
    "\n",
    "if edad > 21 :\n",
    "\n",
    "    print('hace lo que quieras')\n",
    "\n",
    "\n",
    "elif edad < 18 :\n",
    "\n",
    "    print('juguito nomas')\n",
    "\n",
    "\n",
    "else :\n",
    "\n",
    "    print(' Podes tomar pero no comprar ')\n",
    "\n",
    "\n",
    "\n"
   ]
  },
  {
   "cell_type": "markdown",
   "id": "c90b9ee1",
   "metadata": {},
   "source": [
    "### Challenge 🤺 - 30m\n",
    "\n",
    "Escribir un programa en el que se `pregunte` al usuario por una temperatura (en grados Celsius), `imprima la temperatura escrita`, y luego `clasificar la temperatura` ingresada en los siguientes niveles:\n",
    "\n",
    "- `Entre -10 y 18 grados`, que imprima \"Fresquete\".\n",
    "- `Entre 19 y 30 grados`, que imprima \"Calor'i\".\n",
    "- `Entre 31 y 45 grados`, que imprima \"Hakuuuuuu\".\n",
    "- `Para todo lo demás`, imprimir \"Ñamano mba'e!\"."
   ]
  },
  {
   "cell_type": "code",
   "execution_count": null,
   "id": "be27f275",
   "metadata": {},
   "outputs": [
    {
     "name": "stdout",
     "output_type": "stream",
     "text": [
      "calori\n",
      "temperatura 30 celcius\n"
     ]
    }
   ],
   "source": [
    "temperatura = int(input ( 'ingrese la temperatura del ambiente en grados celcius'))\n",
    "\n",
    "\n",
    "\n",
    "if temperatura >= -10 and temperatura <= 18 :\n",
    "\n",
    "    print('fresquete')\n",
    "\n",
    "elif temperatura >= 19 and temperatura <= 30 :\n",
    "\n",
    "    print('calor.i')\n",
    "\n",
    "elif temperatura >= 31 and temperatura <= 45:\n",
    "\n",
    "    print('hakuuuuuu')\n",
    "\n",
    "else:\n",
    "\n",
    "    print('MUERO DE CALOR ')\n",
    "\n",
    "print(f'temperatura {temperatura} celcius')\n",
    "\n",
    "\n",
    "\n",
    "\n",
    "\n",
    "\n"
   ]
  },
  {
   "cell_type": "markdown",
   "id": "d1e12fbf",
   "metadata": {},
   "source": [
    "###### Challenge 🤺 - 20m\n",
    "Escribir un programa que `almacene` una contraseña en una `variable`, y `pregunte al usuario` por la contraseña `hasta que` introduzca la contraseña correcta.\n",
    "\n",
    "Cuando el usuario ingrese la `contrasena correcta`, `imprimir` un mensaje secreto."
   ]
  },
  {
   "cell_type": "code",
   "execution_count": null,
   "id": "a29cb539",
   "metadata": {},
   "outputs": [
    {
     "name": "stdout",
     "output_type": "stream",
     "text": [
      "contrasenha incorrecta\n",
      "contrasenha correcta\n",
      "bienvenido 10 \n"
     ]
    }
   ],
   "source": [
    "contrasenha = 10\n",
    "\n",
    "while True:\n",
    "\n",
    "    contra = int(input('ingrese su contrasenha?'))\n",
    "\n",
    "    if contra == contrasenha :\n",
    "\n",
    "        print('contrasenha correcta')\n",
    "        break\n",
    "    \n",
    "    else:\n",
    "        print('contrasenha incorrecta')\n",
    "\n",
    "print(f'bienvenido {contrasenha} ')\n"
   ]
  },
  {
   "cell_type": "markdown",
   "id": "cef73bff",
   "metadata": {},
   "source": [
    ".append\n",
    "[]\n",
    ".remove\n",
    ".pop()"
   ]
  },
  {
   "cell_type": "code",
   "execution_count": null,
   "id": "17c07181",
   "metadata": {},
   "outputs": [
    {
     "name": "stdout",
     "output_type": "stream",
     "text": [
      "[1, 2, 4, 5]\n",
      "3\n",
      "[1, 5, 4, 5, 6]\n"
     ]
    }
   ],
   "source": [
    "mi_lista = [1, 2, 3, 4, 5]\n",
    "elemento_eliminado = mi_lista.pop(2)\n",
    "print(mi_lista)       \n",
    "print(elemento_eliminado)  \n",
    "mi_lista.append(6)\n",
    "mi_lista[1] = 5\n",
    "print(mi_lista)"
   ]
  },
  {
   "cell_type": "code",
   "execution_count": 48,
   "id": "401575df",
   "metadata": {},
   "outputs": [
    {
     "name": "stdout",
     "output_type": "stream",
     "text": [
      "['cuaderno', 'boligrafo', 'lapiz', 'borrador', 'pincel']\n",
      "['cuaderno', 'boligrafo', 'lapiz', 'borrador', 'pincel', 'libro']\n",
      "['cuaderno', 'cartulina', 'lapiz', 'borrador', 'pincel', 'libro']\n",
      "['cuaderno', 'cartulina', 'borrador', 'pincel', 'libro']\n"
     ]
    }
   ],
   "source": [
    "\n",
    "\n",
    "lista_de_utiles = [\"cuaderno\" , \"boligrafo\" , \"lapiz\" , \"borrador\" , \"pincel\"]\n",
    "print(lista_de_utiles)\n",
    "\n",
    "lista_de_utiles.append(\"libro\")\n",
    "print(lista_de_utiles)\n",
    "\n",
    "lista_de_utiles[1] = \"cartulina\"\n",
    "print(lista_de_utiles)\n",
    "\n",
    "lista_de_utiles.remove(\"lapiz\")\n",
    "print(lista_de_utiles)"
   ]
  },
  {
   "cell_type": "markdown",
   "id": "eaf59067",
   "metadata": {},
   "source": [
    "### Challenge 🤺 - 20m\n",
    "\n",
    "Escribir un programa que itere en un rango de 10 veces. Por cada iteracion multiplicar el iterador por dos e imprimir el resultado."
   ]
  },
  {
   "cell_type": "code",
   "execution_count": null,
   "id": "e35456b3",
   "metadata": {},
   "outputs": [
    {
     "name": "stdout",
     "output_type": "stream",
     "text": [
      "0\n",
      "2\n",
      "4\n",
      "6\n",
      "8\n",
      "10\n",
      "12\n",
      "14\n",
      "16\n",
      "18\n"
     ]
    }
   ],
   "source": [
    "for interador in range(10):\n",
    "    \n",
    "    print(interador*2)\n",
    "\n",
    "\n",
    "\n",
    "\n",
    "\n",
    "    "
   ]
  },
  {
   "cell_type": "markdown",
   "id": "03724e58",
   "metadata": {},
   "source": []
  },
  {
   "cell_type": "code",
   "execution_count": null,
   "id": "73126850",
   "metadata": {},
   "outputs": [
    {
     "name": "stdout",
     "output_type": "stream",
     "text": [
      "toyota\n",
      "hyndai\n"
     ]
    }
   ],
   "source": [
    "lista_de_marcas =['toyota', 'bmw', 'hyndai', 'danzu']\n",
    "\n",
    "for marcas in lista_de_marcas:\n",
    "\n",
    "    if len(marcas) >= 6:\n",
    "        \n",
    "        print(marcas)\n",
    "\n"
   ]
  },
  {
   "cell_type": "code",
   "execution_count": 68,
   "id": "75150352",
   "metadata": {},
   "outputs": [],
   "source": [
    "lista_de_ciudades = ['asuncion', 'ita','luque','boquero']\n",
    "\n",
    "for ciudades in lista_de_ciudades:\n",
    "\n",
    "    if ciudades == 'b' :\n",
    "\n",
    "        print(ciudades)\n"
   ]
  },
  {
   "cell_type": "code",
   "execution_count": null,
   "id": "7fcce484",
   "metadata": {},
   "outputs": [
    {
     "name": "stdout",
     "output_type": "stream",
     "text": [
      "oscar\n",
      "lo encontre\n"
     ]
    }
   ],
   "source": [
    "frase = input('ingrese nombre de usuario')\n",
    "print(frase)\n",
    "for letra in frase:\n",
    "    if letra == 'o'or letra == 'O':\n",
    "        print('lo encontre')\n"
   ]
  }
 ],
 "metadata": {
  "kernelspec": {
   "display_name": ".venv",
   "language": "python",
   "name": "python3"
  },
  "language_info": {
   "codemirror_mode": {
    "name": "ipython",
    "version": 3
   },
   "file_extension": ".py",
   "mimetype": "text/x-python",
   "name": "python",
   "nbconvert_exporter": "python",
   "pygments_lexer": "ipython3",
   "version": "3.12.3"
  }
 },
 "nbformat": 4,
 "nbformat_minor": 5
}
