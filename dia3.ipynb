{
 "cells": [
  {
   "cell_type": "markdown",
   "id": "c2bdaee3",
   "metadata": {},
   "source": [
    "\n",
    "## Challenge 1 🤺 - 15m\n",
    "\n",
    "Crear una función que imprima la variable palabra."
   ]
  },
  {
   "cell_type": "code",
   "execution_count": null,
   "id": "724e44f9",
   "metadata": {},
   "outputs": [
    {
     "name": "stdout",
     "output_type": "stream",
     "text": [
      "buenos dias\n"
     ]
    }
   ],
   "source": [
    "def saludos():\n",
    "\n",
    "    palablra = 'buenos dias'\n",
    "\n",
    "    print(palablra)\n",
    "\n",
    "saludos()\n"
   ]
  },
  {
   "cell_type": "markdown",
   "id": "4d1ba431",
   "metadata": {},
   "source": [
    "\n",
    "## Challenge 2 🤺 - 20 min\n",
    "Crear una función que `reciba` dos letras `(parámetros)` y que `verifique` si son iguales:\n",
    "\n",
    "1. `Si son iguales`, imprimir \"Las letras son iguales\".\n",
    "\n",
    "2. `De lo contrario`, imprimir \"Las letras son diferentes\"."
   ]
  },
  {
   "cell_type": "code",
   "execution_count": 16,
   "id": "10ce7644",
   "metadata": {},
   "outputs": [
    {
     "name": "stdout",
     "output_type": "stream",
     "text": [
      "las letras los diferentes\n"
     ]
    }
   ],
   "source": [
    "def letra (letra1,letra2):\n",
    "\n",
    "    if letra1 == letra2 :\n",
    "\n",
    "        print('las letras son iguales')\n",
    "\n",
    "    elif letra1 != letra2 :\n",
    "\n",
    "        print('las letras los diferentes')\n",
    "\n",
    "    \n",
    "letra ('a','b')\n",
    "\n",
    "\n"
   ]
  },
  {
   "cell_type": "code",
   "execution_count": null,
   "id": "e521a5b3",
   "metadata": {},
   "outputs": [
    {
     "name": "stdout",
     "output_type": "stream",
     "text": [
      "Las letras son diferentes\n"
     ]
    }
   ],
   "source": [
    "palabra1=(input(\"Ingrese una letra\"))\n",
    "\n",
    "palabra2=(input(\"Ingrese una letra\"))\n",
    "\n",
    "if len(palabra1)>1 and len(palabra2)>1:\n",
    "    print(\"Por favor ingrese solo una letra\")\n",
    "\n",
    "def palabras(palabra1,palabra2):\n",
    "\n",
    "    if palabra1==palabra2:\n",
    "        print(\"Las letras son iguales\")\n",
    "\n",
    "    else:\n",
    "        print(\"Las letras son diferentes\")\n",
    "palabras(palabra1,palabra2)"
   ]
  },
  {
   "cell_type": "markdown",
   "id": "66a7cf1a",
   "metadata": {},
   "source": [
    "## Challenge 3 🤺 - 20m\n",
    "\n",
    "Crear una función que reciba `dos parámetros` (una palabra y un número), y que retorne `True` si el `número es igual` a la cantidad de letras de la palabra. En caso contrario, que retorne `False`.\n",
    "\n",
    "Pista: `cantidad de letras de una palabra en python`"
   ]
  },
  {
   "cell_type": "code",
   "execution_count": 29,
   "id": "5b4a4950",
   "metadata": {},
   "outputs": [
    {
     "data": {
      "text/plain": [
       "True"
      ]
     },
     "execution_count": 29,
     "metadata": {},
     "output_type": "execute_result"
    }
   ],
   "source": [
    "\n",
    "def marca (palabra,numero):\n",
    "        \n",
    "        if len(palabra) == (numero):\n",
    "              \n",
    "              return True\n",
    "        else:\n",
    "               return False\n",
    "                  \n",
    "        \n",
    "marca('toyota',6)\n",
    "\n",
    "\n",
    "    \n"
   ]
  },
  {
   "cell_type": "code",
   "execution_count": 26,
   "id": "6b5cd12b",
   "metadata": {},
   "outputs": [
    {
     "name": "stdout",
     "output_type": "stream",
     "text": [
      "True\n"
     ]
    }
   ],
   "source": [
    "def valor_a_agregar(palabra, numero):\n",
    "    if len (palabra) == (numero):\n",
    "        return True\n",
    "    else:\n",
    "        return False\n",
    "    \n",
    "valor_a_agregar('arbol',5)\n",
    "\n",
    "valor_a_retornar= (valor_a_agregar('arbol',5))\n",
    "print(valor_a_retornar)"
   ]
  },
  {
   "cell_type": "markdown",
   "id": "683fe2cb",
   "metadata": {},
   "source": [
    "## Challenge 5 🤺 - 25m\n",
    "\n",
    "`Pedir al usuario` que ingrese 1 palabra, luego `convertir` esa palabra a una `lista` con sus caracteres con `list()`. Agregar esa lista de caracteres a una lista llamada `palabras_ingresadas`. Repetir el proceso 3 veces. Cada vez que se agregue una lista de caracteres, imprimir la lista `palabras_ingresadas`.\n",
    "\n",
    "\n",
    "Ejemplo del resultado esperado:\n",
    "\n",
    "```[['c', 'i', 'e', 'l', 'o']]``` # Al ingresar la primera palabra\n",
    "\n",
    "```[['c', 'i', 'e', 'l', 'o'], ['c', 'a', 'l', 'o', 'r']]``` # Al ingresar la segunda palabra\n",
    "\n",
    "```[['c', 'i', 'e', 'l', 'o'], ['c', 'a', 'l', 'o', 'r'], ['n', 'u', 'b', 'e', 's']]``` # Al ingresar la tercera palabra"
   ]
  },
  {
   "cell_type": "code",
   "execution_count": null,
   "id": "6dbb21b2",
   "metadata": {},
   "outputs": [
    {
     "name": "stdout",
     "output_type": "stream",
     "text": [
      "['ingresado', ['c', 'i', 'e', 'l', 'o']]\n",
      "['ingresado', ['c', 'i', 'e', 'l', 'o'], ['c', 'a', 'l', 'o', 'r']]\n",
      "['ingresado', ['c', 'i', 'e', 'l', 'o'], ['c', 'a', 'l', 'o', 'r'], ['n', 'u', 'b', 'e', 's']]\n"
     ]
    }
   ],
   "source": [
    "# Creamos una lista vacía para guardar las palabras\n",
    "palabras_ingresadas = []\n",
    "\n",
    "# Repetimos el proceso 3 veces\n",
    "for _ in range(3):\n",
    "    palabra = input(\"Ingresa una palabra: \")      # 1. Pedir palabra al usuario\n",
    "    lista_caracteres = list(palabra)              # 2. Convertir la palabra en lista de caracteres\n",
    "    palabras_ingresadas.append(lista_caracteres)  # 3. Agregar la lista de caracteres\n",
    "    print(palabras_ingresadas)                    # 4. Imprimir el estado actual de la lista\n"
   ]
  },
  {
   "cell_type": "code",
   "execution_count": 6,
   "id": "bda55d2e",
   "metadata": {},
   "outputs": [
    {
     "name": "stdout",
     "output_type": "stream",
     "text": [
      "[['h', 'o', 'l', 'a']]\n",
      "[['h', 'o', 'l', 'a'], ['c', 'a', 's', 'a']]\n",
      "[['h', 'o', 'l', 'a'], ['c', 'a', 's', 'a'], ['c', 'h', 'a', 'u']]\n"
     ]
    }
   ],
   "source": [
    "palabras_ingresadas = []\n",
    "cantidad = 0\n",
    "while cantidad < 3:\n",
    "    palabra = input(\"Ingrese la primera palabra\")\n",
    "    palabra_enlistada = list(palabra)\n",
    "    palabras_ingresadas.append(palabra_enlistada)\n",
    "\n",
    "    print(palabras_ingresadas)\n",
    "    cantidad += 1"
   ]
  },
  {
   "cell_type": "markdown",
   "id": "2441ba8b",
   "metadata": {},
   "source": [
    "## Challenge 6 🤺 - 25m\n",
    "\n",
    "Dada la lista de ejemplo: \n",
    "\n",
    "lista = [['h', 'o', 'l', 'i', 's'], ['h', 'e', 'l', 'l', 'o'], ['h', 'a', 'l', 'l', 'o']]\n",
    "\n",
    "`Crear una función` que `imprima` una grilla (lista de listas), `una línea` por cada lista dentro de la lista principal.\n",
    "\n",
    "Ejemplo del resultado esperado:\n",
    "\n",
    "\n",
    "['h', 'o', 'l', 'i', 's']\n",
    "['h', 'e', 'l', 'l', 'o']\n",
    "['h', 'a', 'l', 'l', 'o']"
   ]
  },
  {
   "cell_type": "code",
   "execution_count": null,
   "id": "bf6d5b6b",
   "metadata": {},
   "outputs": [
    {
     "name": "stdout",
     "output_type": "stream",
     "text": [
      "['h', 'o', 'l', 'i', 's']\n",
      "['h', 'e', 'l', 'l', 'o']\n",
      "['h', 'a', 'l', 'l', 'o']\n"
     ]
    }
   ],
   "source": [
    "\n",
    "def imprimir_grilla(lista):#1. crear una funcion\n",
    "\n",
    "    for sublista in lista:#2.imprimir esa funcion en una lista de listas\n",
    "        print(sublista)\n",
    "\n",
    "\n",
    "lista = [['h', 'o', 'l', 'i', 's'], ['h', 'e', 'l', 'l', 'o'], ['h', 'a', 'l', 'l', 'o']]#3.hacer una linea principal\n",
    "\n",
    "imprimir_grilla(lista)\n",
    "\n",
    "\n"
   ]
  },
  {
   "cell_type": "code",
   "execution_count": null,
   "id": "463d414f",
   "metadata": {},
   "outputs": [],
   "source": [
    "import random\n",
    "\n",
    "# Lista de palabras posibles\n",
    "palabras = [\"cielo\", \"nubes\", \"perro\", \"gatos\", \"piano\"]\n",
    "palabra_secreta = random.choice(palabras)\n",
    "intentos = 5\n",
    "\n",
    "print(\" Adivina la palabra de 5 letras. ¡Tienes 5 intentos!\")\n",
    "\n",
    "while intentos > 0:\n",
    "    palabra_usuario = input(\"Ingresa una palabra: \").lower()\n",
    "\n",
    "    # Validar longitud\n",
    "    if len(palabra_usuario) != 5:\n",
    "        print(\" La palabra debe tener exactamente 5 letras.\")\n",
    "        continue\n",
    "\n",
    "    # Si acierta completamente\n",
    "    if palabra_usuario == palabra_secreta:\n",
    "        print(\"¡Correcto! Adivinaste la palabra.\")\n",
    "        break\n",
    "\n",
    "    # Comparar letra por letra\n",
    "    resultado = []\n",
    "    for i in range(5):\n",
    "        if palabra_usuario[i] == palabra_secreta[i]:\n",
    "            resultado.append(f\"{palabra_usuario[i]}\")  # Correcta posición\n",
    "        elif palabra_usuario[i] in palabra_secreta:\n",
    "            resultado.append(f\" {palabra_usuario[i]}\")  # Existe en otra posición\n",
    "        else:\n",
    "            resultado.append(f\"{palabra_usuario[i]}\")  # No existe\n",
    "\n",
    "    print(\"Resultado:\", \" \".join(resultado))\n",
    "\n",
    "    intentos -= 1\n",
    "    print(f\"Te quedan {intentos} intentos.\\n\")\n",
    "\n",
    "if intentos == 0:\n",
    "    print(f\" Perdiste. La palabra era: {palabra_secreta}\")\n"
   ]
  },
  {
   "cell_type": "code",
   "execution_count": null,
   "id": "b0c0ec74",
   "metadata": {},
   "outputs": [],
   "source": [
    " #PALABRAS\n",
    "\n",
    "palabra_del_dia = \"audio\"\n",
    "cantidad_de_letras = 5\n",
    "intentos = 5\n",
    "\n",
    "#FUNCIÓN PARA VERIFICAR LAS LETRAS\n",
    "def palabra_a_verificar(palabra_ingresada_usuario, palabra_del_dia):\n",
    "    letras_verificadas = []\n",
    "    for posicion in range(cantidad_de_letras):\n",
    "        letra_en_posicion_correcta = palabra_ingresada_usuario[posicion] == palabra_del_dia[posicion]\n",
    "        letra_en_posicion_incorrecta = palabra_ingresada_usuario[posicion] in palabra_del_dia\n",
    "\n",
    "        if letra_en_posicion_correcta:\n",
    "            letras_verificadas.append(f\"[{palabra_ingresada_usuario[posicion]}]\")\n",
    "        elif letra_en_posicion_incorrecta:\n",
    "            letras_verificadas.append(f\"({palabra_ingresada_usuario[posicion]})\")\n",
    "        else:\n",
    "            letras_verificadas.append(palabra_ingresada_usuario[posicion])\n",
    "    return letras_verificadas\n",
    "\n",
    "#GRILLA PARA GUARDAR LOS INTENTOS\n",
    "grilla = []\n",
    "\n",
    "#JUEGO\n",
    "while intentos > 0:\n",
    "    palabra_ingresada_usuario = input(\"Ingrese una palabra: \").lower()\n",
    "\n",
    "    while len(palabra_ingresada_usuario) != cantidad_de_letras:\n",
    "        print(\"Ingrese una palabra de 5 letras, por favor.\")\n",
    "        palabra_ingresada_usuario = input(\"Intenta de nuevo: \").lower()\n",
    "\n",
    "    if palabra_ingresada_usuario == palabra_del_dia:\n",
    "        resultado = palabra_a_verificar(palabra_ingresada_usuario, palabra_del_dia)\n",
    "        grilla.append(resultado)\n",
    "        print(\"Ganastee!\")\n",
    "        break\n",
    "    else:\n",
    "        resultado = palabra_a_verificar(palabra_ingresada_usuario, palabra_del_dia)\n",
    "        grilla.append(resultado)\n",
    "        print(resultado)\n",
    "        intentos -= 1\n",
    "        print(f\"Lo siento te quedan {intentos} \")\n",
    "\n",
    "#MOSTRAR RESULTADO FINAL\n",
    "print(\"Resultado de tus intentos:\")\n",
    "for fila in grilla:\n",
    "    print(fila)\n",
    "\n",
    "if intentos == 0:\n",
    "    print(\"Perdiste la palabra era: \", palabra_del_dia)"
   ]
  }
 ],
 "metadata": {
  "kernelspec": {
   "display_name": ".venv",
   "language": "python",
   "name": "python3"
  },
  "language_info": {
   "codemirror_mode": {
    "name": "ipython",
    "version": 3
   },
   "file_extension": ".py",
   "mimetype": "text/x-python",
   "name": "python",
   "nbconvert_exporter": "python",
   "pygments_lexer": "ipython3",
   "version": "3.12.3"
  }
 },
 "nbformat": 4,
 "nbformat_minor": 5
}
